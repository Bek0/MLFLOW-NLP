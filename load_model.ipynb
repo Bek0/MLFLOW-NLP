{
 "cells": [
  {
   "cell_type": "code",
   "execution_count": null,
   "metadata": {},
   "outputs": [
    {
     "name": "stdout",
     "output_type": "stream",
     "text": [
      "Text: This is terrible, I hate it!\n",
      "Sentiment: Negative\n",
      "Negative Probability: 0.9986428910251389\n",
      "Positive Probability: 0.0013571089748610629\n",
      "------------------------------\n",
      "Text: The product works as expected, good quality\n",
      "Sentiment: Positive\n",
      "Negative Probability: 0.06824484988859714\n",
      "Positive Probability: 0.9317551501114029\n",
      "------------------------------\n",
      "Text: Not sure how I feel about this\n",
      "Sentiment: Positive\n",
      "Negative Probability: 0.04272827271290547\n",
      "Positive Probability: 0.9572717272870945\n",
      "------------------------------\n",
      "Text: Great customer service but bad delivery\n",
      "Sentiment: Positive\n",
      "Negative Probability: 0.4258276763854234\n",
      "Positive Probability: 0.5741723236145766\n",
      "------------------------------\n"
     ]
    }
   ],
   "source": [
    "# load_model.ipynb\n",
    "from pipelines.prediction_pipeline import predict_sentiment\n",
    "\n",
    "texts = [\n",
    "    \"This is terrible, I hate it!\",\n",
    "    \"The product works as expected, good quality\",\n",
    "    \"Not sure how I feel about this\",\n",
    "    \"Great customer service but bad delivery\"\n",
    "]\n",
    "\n",
    "results = predict_sentiment(texts)\n",
    "\n",
    "for result in results:\n",
    "    print(f\"Text: {result['text']}\")\n",
    "    print(f\"Sentiment: {result['sentiment']}\")\n",
    "    print(f\"Negative Probability: {result['negative_probability']}\")\n",
    "    print(f\"Positive Probability: {result['positive_probability']}\")\n",
    "    print(\"-\" * 30)"
   ]
  }
 ],
 "metadata": {
  "kernelspec": {
   "display_name": "myenv1",
   "language": "python",
   "name": "python3"
  },
  "language_info": {
   "codemirror_mode": {
    "name": "ipython",
    "version": 3
   },
   "file_extension": ".py",
   "mimetype": "text/x-python",
   "name": "python",
   "nbconvert_exporter": "python",
   "pygments_lexer": "ipython3",
   "version": "3.10.4"
  }
 },
 "nbformat": 4,
 "nbformat_minor": 2
}
