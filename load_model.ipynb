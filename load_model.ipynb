{
 "cells": [
  {
   "cell_type": "code",
   "execution_count": 1,
   "metadata": {},
   "outputs": [],
   "source": [
    "import mlflow\n",
    "from pipelines.prediction_pipeline import model_prediction_pipeline\n",
    "\n",
    "# Load the model using MLflow\n",
    "model_uri = \"models:/sentimentAnalysis@challenger\"  # Replace with your actual model name\n",
    "model = mlflow.sklearn.load_model(model_uri)\n",
    "\n",
    "# Create the pipeline\n",
    "pipeline = model_prediction_pipeline(model)\n",
    "\n",
    "def predict_sentiment(text):\n",
    "    \"\"\"Predict sentiment for given text using the pipeline.\"\"\"\n",
    "    # Get prediction and probability\n",
    "    prediction = pipeline.predict([text])[0]\n",
    "    probability = pipeline.predict_proba([text])[0]\n",
    "    \n",
    "    result = {\n",
    "        'text': text,\n",
    "        'sentiment': 'Positive' if prediction == 1 else 'Negative',\n",
    "        'negative_probability': float(probability[0]),\n",
    "        'positive_probability': float(probability[1])\n",
    "    }\n",
    "    \n",
    "    return result"
   ]
  },
  {
   "cell_type": "code",
   "execution_count": 2,
   "metadata": {},
   "outputs": [
    {
     "name": "stdout",
     "output_type": "stream",
     "text": [
      "Batch Predictions:\n",
      "\n",
      "Text: This is terrible, I hate it!\n",
      "sentiment: Negative\n",
      "negative_probability: 0.9986428910251389\n",
      "positive_probability: 0.0013571089748610629\n",
      "-------------------------\n",
      "Text: The product works as expected, good quality\n",
      "sentiment: Positive\n",
      "negative_probability: 0.06824484988859714\n",
      "positive_probability: 0.9317551501114029\n",
      "-------------------------\n",
      "Text: Not sure how I feel about this\n",
      "sentiment: Positive\n",
      "negative_probability: 0.04272827271290547\n",
      "positive_probability: 0.9572717272870945\n",
      "-------------------------\n",
      "Text: Great customer service but bad delivery\n",
      "sentiment: Positive\n",
      "negative_probability: 0.4258276763854234\n",
      "positive_probability: 0.5741723236145766\n",
      "-------------------------\n"
     ]
    }
   ],
   "source": [
    "if __name__ == \"__main__\":\n",
    "    # Batch prediction example\n",
    "    texts = [\n",
    "        \"This is terrible, I hate it!\",\n",
    "        \"The product works as expected, good quality\",\n",
    "        \"Not sure how I feel about this\",\n",
    "        \"Great customer service but bad delivery\"\n",
    "    ]\n",
    "    \n",
    "    print(\"Batch Predictions:\\n\")\n",
    "    results = [predict_sentiment(text) for text in texts]\n",
    "    for result in results:\n",
    "        print(f\"Text: {result['text']}\")\n",
    "        for key, value in result.items():\n",
    "            if key != 'text':\n",
    "                print(f\"{key}: {value}\")\n",
    "        print(\"-\"*25)"
   ]
  }
 ],
 "metadata": {
  "kernelspec": {
   "display_name": "myenv1",
   "language": "python",
   "name": "python3"
  },
  "language_info": {
   "codemirror_mode": {
    "name": "ipython",
    "version": 3
   },
   "file_extension": ".py",
   "mimetype": "text/x-python",
   "name": "python",
   "nbconvert_exporter": "python",
   "pygments_lexer": "ipython3",
   "version": "3.10.4"
  }
 },
 "nbformat": 4,
 "nbformat_minor": 2
}
